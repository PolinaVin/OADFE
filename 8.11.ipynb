{
 "cells": [
  {
   "cell_type": "markdown",
   "metadata": {},
   "source": [
    "k = +-1\n",
    "Barker's Codes\n",
    "Сигналы, которые сворачиваются с собой в пики на интервале свертки\n",
    "код баркера 11 в википедии"
   ]
  },
  {
   "cell_type": "code",
   "execution_count": 6,
   "metadata": {},
   "outputs": [],
   "source": [
    "import numpy as np\n",
    "import matplotlib.pyplot as plt"
   ]
  },
  {
   "cell_type": "code",
   "execution_count": 46,
   "metadata": {},
   "outputs": [
    {
     "ename": "UnboundLocalError",
     "evalue": "local variable 'byte_str' referenced before assignment",
     "output_type": "error",
     "traceback": [
      "\u001b[1;31m---------------------------------------------------------------------------\u001b[0m",
      "\u001b[1;31mUnboundLocalError\u001b[0m                         Traceback (most recent call last)",
      "\u001b[1;32m<ipython-input-46-b73793334801>\u001b[0m in \u001b[0;36m<module>\u001b[1;34m()\u001b[0m\n\u001b[0;32m     28\u001b[0m \u001b[1;33m\u001b[0m\u001b[0m\n\u001b[0;32m     29\u001b[0m \u001b[0ms\u001b[0m \u001b[1;33m=\u001b[0m \u001b[1;34m'helloworld'\u001b[0m\u001b[1;33m\u001b[0m\u001b[0m\n\u001b[1;32m---> 30\u001b[1;33m \u001b[1;32massert\u001b[0m \u001b[0ms\u001b[0m\u001b[1;33m==\u001b[0m\u001b[0mbits2str\u001b[0m\u001b[1;33m(\u001b[0m\u001b[0mstrtobits\u001b[0m\u001b[1;33m(\u001b[0m\u001b[0ms\u001b[0m\u001b[1;33m)\u001b[0m\u001b[1;33m)\u001b[0m\u001b[1;33m\u001b[0m\u001b[0m\n\u001b[0m\u001b[0;32m     31\u001b[0m \u001b[0mbits\u001b[0m \u001b[1;33m=\u001b[0m \u001b[0mstrtobits\u001b[0m\u001b[1;33m(\u001b[0m\u001b[0ms\u001b[0m\u001b[1;33m)\u001b[0m\u001b[1;33m\u001b[0m\u001b[0m\n\u001b[0;32m     32\u001b[0m \u001b[0msignal\u001b[0m \u001b[1;33m=\u001b[0m \u001b[0mbits2signal\u001b[0m\u001b[1;33m(\u001b[0m\u001b[0mbits\u001b[0m\u001b[1;33m)\u001b[0m\u001b[1;33m\u001b[0m\u001b[0m\n",
      "\u001b[1;32m<ipython-input-46-b73793334801>\u001b[0m in \u001b[0;36mbits2str\u001b[1;34m(bits)\u001b[0m\n\u001b[0;32m     23\u001b[0m \u001b[1;32mdef\u001b[0m \u001b[0mbits2str\u001b[0m\u001b[1;33m(\u001b[0m\u001b[0mbits\u001b[0m\u001b[1;33m)\u001b[0m\u001b[1;33m:\u001b[0m\u001b[1;33m\u001b[0m\u001b[0m\n\u001b[0;32m     24\u001b[0m     \u001b[0mbytes_array\u001b[0m \u001b[1;33m=\u001b[0m \u001b[0mnp\u001b[0m\u001b[1;33m.\u001b[0m\u001b[0mpackbits\u001b[0m\u001b[1;33m(\u001b[0m\u001b[0mbits\u001b[0m\u001b[1;33m)\u001b[0m\u001b[1;33m\u001b[0m\u001b[0m\n\u001b[1;32m---> 25\u001b[1;33m     \u001b[0ms\u001b[0m \u001b[1;33m=\u001b[0m \u001b[0mbyte_str\u001b[0m\u001b[1;33m.\u001b[0m\u001b[0mdecode\u001b[0m\u001b[1;33m(\u001b[0m\u001b[0mencoding\u001b[0m\u001b[1;33m=\u001b[0m\u001b[1;34m'ascii'\u001b[0m\u001b[1;33m)\u001b[0m\u001b[1;33m\u001b[0m\u001b[0m\n\u001b[0m\u001b[0;32m     26\u001b[0m     \u001b[0mbyte_str\u001b[0m \u001b[1;33m=\u001b[0m \u001b[0mbytes_array\u001b[0m\u001b[1;33m.\u001b[0m\u001b[0mtobytes\u001b[0m\u001b[1;33m(\u001b[0m\u001b[1;33m)\u001b[0m\u001b[1;33m\u001b[0m\u001b[0m\n\u001b[0;32m     27\u001b[0m     \u001b[1;32mreturn\u001b[0m \u001b[0ms\u001b[0m\u001b[1;33m\u001b[0m\u001b[0m\n",
      "\u001b[1;31mUnboundLocalError\u001b[0m: local variable 'byte_str' referenced before assignment"
     ]
    }
   ],
   "source": [
    "code = np.array([+1, +1, +1, -1, +1])#, dtype=np.uint8) Barker's code\n",
    "# code_convolved = np.convolve(code, code[::-1], mode='full')\n",
    "# plt.plot(code_convolved)\n",
    "length = 3\n",
    "code_signal = np.repeat(code, length) #rastyanuli to kill the noise\n",
    "#plt.plot(code_signal, 'x')\n",
    "# str => set of bits\n",
    "# ASCII: each letter is 1 byte(number from 0 to 256)\n",
    "\n",
    "def strtobits(s):\n",
    "    byte_str = s.encode(encoding='ascii')\n",
    "    byte_array = np.frombuffer(byte_str, dtype=np.uint8)# same as np.array(list(byte_str))\n",
    "    bits = np.unpackbits(byte_array)\n",
    "    return bits\n",
    "\n",
    "def bits2signal(bits):\n",
    "    data = 2 * np.asarray(bits, dtype=float) - 1\n",
    "    return np.outer(data, code_signal).reshape(-1)#outside multiply is multiplying 2 strings as colomn*string=matrix\n",
    "\n",
    "def obs(signal, sigma): #add noise whit amlitude sigma\n",
    "    return signal+np.random.normal(scale=sigma, size=signal.size)\n",
    "\n",
    "def bits2str(bits):\n",
    "    bytes_array = np.packbits(bits)\n",
    "    s = byte_str.decode(encoding='ascii')\n",
    "    byte_str = bytes_array.tobytes()\n",
    "    return s\n",
    "\n",
    "s = 'helloworld' \n",
    "assert s==bits2str(strtobits(s))\n",
    "bits = strtobits(s)\n",
    "signal = bits2signal(bits)\n",
    "y = obs(signal, sigma=0.5)\n",
    "plt.plot(y)\n",
    "convolved = np.convolve(y, code_signal[::1], mode='same')#svertka\n",
    "plt.plot(convolved)\n",
    "plt.figure(figsize=(10,2))"
   ]
  },
  {
   "cell_type": "code",
   "execution_count": 47,
   "metadata": {},
   "outputs": [],
   "source": [
    "from astropy.io import fits"
   ]
  },
  {
   "cell_type": "code",
   "execution_count": null,
   "metadata": {},
   "outputs": [],
   "source": [
    "data = fits.open('adress file')[2].data()\n",
    "#Неважно, в кааком порядке Фурье\n",
    "a = np.abs(np.fft.ifft2(data[0]))**2\n",
    "plt.imshow(np.fft.fftshift(a), vmax=5)"
   ]
  }
 ],
 "metadata": {
  "kernelspec": {
   "display_name": "Python 3",
   "language": "python",
   "name": "python3"
  },
  "language_info": {
   "codemirror_mode": {
    "name": "ipython",
    "version": 3
   },
   "file_extension": ".py",
   "mimetype": "text/x-python",
   "name": "python",
   "nbconvert_exporter": "python",
   "pygments_lexer": "ipython3",
   "version": "3.6.3"
  }
 },
 "nbformat": 4,
 "nbformat_minor": 2
}
