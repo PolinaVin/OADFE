{
 "cells": [
  {
   "cell_type": "code",
   "execution_count": 29,
   "metadata": {},
   "outputs": [],
   "source": [
    "import numpy as np\n",
    "import matplotlib.pyplot as plt\n",
    "from scipy.ndimage import convolve\n",
    "from scipy.optimize import nnls"
   ]
  },
  {
   "cell_type": "code",
   "execution_count": 17,
   "metadata": {},
   "outputs": [],
   "source": [
    "def save_img(array, title):\n",
    "    plt.figure()\n",
    "    plt.imshow(array)\n",
    "    plt.title(title)\n",
    "    plt.savefig(title+'.png')"
   ]
  },
  {
   "cell_type": "code",
   "execution_count": 18,
   "metadata": {},
   "outputs": [
    {
     "data": {
      "text/plain": [
       "array([[0.64118039, 0.8007374 , 0.64118039],\n",
       "       [0.8007374 , 1.        , 0.8007374 ],\n",
       "       [0.64118039, 0.8007374 , 0.64118039]])"
      ]
     },
     "execution_count": 18,
     "metadata": {},
     "output_type": "execute_result"
    }
   ],
   "source": [
    "kernel_size = 3\n",
    "sigma = kernel_size / 2\n",
    "x, y = np.indices((kernel_size, kernel_size))-kernel_size // 2\n",
    "kernel = np.exp(-(x**2 + y**2) / (2 * sigma**2))\n",
    "kernel"
   ]
  },
  {
   "cell_type": "code",
   "execution_count": 30,
   "metadata": {},
   "outputs": [
    {
     "data": {
      "image/png": "[encoded data removed]",
      "text/plain": [
       "<Figure size 432x288 with 1 Axes>"
      ]
     },
     "metadata": {
      "needs_background": "light"
     },
     "output_type": "display_data"
    },
    {
     "data": {
      "image/png": "[encoded data removed]",
      "text/plain": [
       "<Figure size 432x288 with 1 Axes>"
      ]
     },
     "metadata": {
      "needs_background": "light"
     },
     "output_type": "display_data"
    },
    {
     "data": {
      "image/png": "[encoded data removed]",
      "text/plain": [
       "<Figure size 432x288 with 1 Axes>"
      ]
     },
     "metadata": {
      "needs_background": "light"
     },
     "output_type": "display_data"
    },
    {
     "data": {
      "image/png": "[encoded data removed]",
      "text/plain": [
       "<Figure size 432x288 with 1 Axes>"
      ]
     },
     "metadata": {
      "needs_background": "light"
     },
     "output_type": "display_data"
    }
   ],
   "source": [
    "img_size = 10\n",
    "source = np.diag(np.arange(img_size))\n",
    "convolved = convolve(source, kernel)\n",
    "save_img(convolved, 'convolved')\n",
    "noise_amplitude = 2\n",
    "noised = (convolved+noise_amplitude*(1-2*np.random.rand(*convolved.shape)))\n",
    "save_img(noised, 'noised')\n",
    "b = noised.reshape(-1)\n",
    "A=np.zeros(noised.shape + source.shape)\n",
    "#метод произвольных градиентов упрощает эту задачу, позволяя не строить такой огромный А(см лекцию 27.10)\n",
    "\n",
    "for noised_idx in np.ndindex(noised.shape):\n",
    "    for kernel_idx in np.ndindex(kernel.shape):\n",
    "        k_idx = (kernel_idx[0] - kernel_size // 2, kernel_idx[1] - kernel_size // 2)\n",
    "        source_idx = (noised_idx[0] + k_idx[0], noised_idx[1] + k_idx[1])\n",
    "        if (source_idx[0] < 0 or source_idx[0]>=source.shape[0] or source_idx[1]>=source.shape[1]):\n",
    "            continue\n",
    "        A[noised_idx+source_idx] = kernel[kernel_idx]\n",
    "A = A.reshape(noised.size, source.size)\n",
    "save_img(A, 'A')\n",
    "x = nnls(A, b)[0]\n",
    "x = x.reshape(source.shape)\n",
    "save_img(x, 'x')"
   ]
  },
  {
   "cell_type": "code",
   "execution_count": null,
   "metadata": {},
   "outputs": [],
   "source": []
  }
 ],
 "metadata": {
  "kernelspec": {
   "display_name": "Python 3",
   "language": "python",
   "name": "python3"
  },
  "language_info": {
   "codemirror_mode": {
    "name": "ipython",
    "version": 3
   },
   "file_extension": ".py",
   "mimetype": "text/x-python",
   "name": "python",
   "nbconvert_exporter": "python",
   "pygments_lexer": "ipython3",
   "version": "3.7.3"
  }
 },
 "nbformat": 4,
 "nbformat_minor": 2
}
