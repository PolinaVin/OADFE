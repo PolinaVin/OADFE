{
 "cells": [
  {
   "cell_type": "code",
   "execution_count": 1,
   "metadata": {
    "collapsed": true
   },
   "outputs": [],
   "source": [
    "%matplotlib inline\n",
    "import matplotlib.pyplot as plt\n",
    "from collections import namedtuple\n",
    "import numpy as np\n",
    "from scipy import optimize\n",
    "\n",
    "\n",
    "Leaf = namedtuple('Leaf', ('value', 'x', 'y'))#value это число или класс размерности у\n",
    "#x и y это все, что доехало до данного листа. алгу не нужны\n",
    "Node = namedtuple('Node', ('feature', 'value', 'impurity', 'left', 'right',))#left and right are children \n",
    "#feat and val is i and vi from lectue. imp unused. сплиты должны уменьшать метрику\n",
    "class BaseDecisionTree:\n",
    "    def __init__(self, x, y, max_depth=np.inf):#глубина чтобы обрезать дерево\n",
    "        self.x = np.atleast_2d(x)# х и у одинаковой длины\n",
    "        self.y = np.atleast_1d(y)\n",
    "        self.max_depth = max_depth\n",
    "        \n",
    "        self.features = x.shape[1]\n",
    "        \n",
    "        self.root = self.build_tree(self.x, self.y)\n",
    "    \n",
    "    # Will fail in case of depth ~ 1000 because of limit of recursion calls\n",
    "    def build_tree(self, x, y, depth=1):\n",
    "        if depth > self.max_depth or self.criteria(y) < 1e-6:#crit is h in lecture\n",
    "            return Leaf(self.leaf_value(y), x, y)\n",
    "        \n",
    "        feature, value, impurity = self.find_best_split(x, y)\n",
    "        \n",
    "        left_xy, right_xy = self.partition(x, y, feature, value)\n",
    "        left = self.build_tree(*left_xy, depth=depth + 1)\n",
    "        right = self.build_tree(*right_xy, depth=depth + 1)\n",
    "        \n",
    "        return Node(feature, value, impurity, left, right)\n",
    "    \n",
    "    def leaf_value(self, y):\n",
    "        raise NotImplementedError\n",
    "    \n",
    "    def partition(self, x, y, feature, value):\n",
    "        r = x[:, feature] >= value\n",
    "        l = np.logical_not(r)\n",
    "        return (x[l], y[l]), (x[r], y[r])\n",
    "    \n",
    "    def _impurity_partition(self, value, feature, x, y):\n",
    "        (_, left), (_, right) = self.partition(x, y, feature, value)\n",
    "        return self.impurity(left, right)\n",
    "    \n",
    "    def find_best_split(self, x, y):\n",
    "        best_feature, best_value, best_impurity = 0, x[0,0], np.inf\n",
    "        for feature in range(self.features):\n",
    "            if x.shape[0] > 2:\n",
    "                x_interval = np.sort(x[:,feature])\n",
    "                res = optimize.minimize_scalar(\n",
    "                    self._impurity_partition, \n",
    "                    args=(feature, x, y),\n",
    "                    bounds=(x_interval[1], x_interval[-1]),\n",
    "                    method='Bounded',\n",
    "                )\n",
    "                assert res.success\n",
    "                value = res.x\n",
    "                impurity = res.fun\n",
    "            else:\n",
    "                value = np.max(x[:,feature])\n",
    "                impurity = self._impurity_partition(value, feature, x, y)\n",
    "            if impurity < best_impurity:\n",
    "                best_feature, best_value, best_impurity = feature, value, impurity\n",
    "        return best_feature, best_value, best_impurity\n",
    "    \n",
    "    # Can be optimized for given .criteria()\n",
    "    def impurity(self, left, right):\n",
    "        h_l = self.criteria(left)\n",
    "        h_r = self.criteria(right)\n",
    "        return (left.size * h_l + right.size * h_r) / (left.size + right.size)\n",
    "    \n",
    "    def criteria(self, y):\n",
    "        raise NotImplementedError\n",
    "        \n",
    "    def predict(self, x):\n",
    "        x = np.atleast_2d(x)\n",
    "        y = np.empty(x.shape[0], dtype=self.y.dtype)\n",
    "        for i, row in enumerate(x):\n",
    "            node = self.root\n",
    "            while not isinstance(node, Leaf):\n",
    "                if row[node.feature] >= node.value:\n",
    "                    node = node.right\n",
    "                else:\n",
    "                    node = node.left\n",
    "            y[i] = node.value\n",
    "        return y"
   ]
  },
  {
   "cell_type": "code",
   "execution_count": 2,
   "metadata": {
    "collapsed": true
   },
   "outputs": [],
   "source": [
    "class DecisionTreeClassifier(BaseDecisionTree):\n",
    "    def leaf_value(self, y):\n",
    "        return np.round(np.mean(y))\n",
    "    def criteria(self, y):\n",
    "        p = np.mean(y)\n",
    "        return p * (1 - p)"
   ]
  },
  {
   "cell_type": "code",
   "execution_count": 3,
   "metadata": {
    "collapsed": true
   },
   "outputs": [],
   "source": [
    "COLORS = np.array([[1.,0.,0.], [0.,0.,1.]])\n",
    "def do(f):\n",
    "    n= 100\n",
    "    x = np.random.normal(0,1, size=(n,2))\n",
    "    y = np.asarray(f(x), dtype=float)\n",
    "    dtc = DecisionTreeClassifier(x,y)\n",
    "    y_pred = np.asarray(dtc.predict(x), dtype=int)\n",
    "    assert np.array_equal(y, y_pred)\n",
    "    plt.figure()\n",
    "    plt.scatter(*x.T, color=COLORS[y_pred], s=15)"
   ]
  },
  {
   "cell_type": "code",
   "execution_count": 4,
   "metadata": {},
   "outputs": [
    {
     "data": {
      "image/png": "[encoded data removed]",
      "text/plain": [
       "<matplotlib.figure.Figure at 0x61269b0>"
      ]
     },
     "metadata": {},
     "output_type": "display_data"
    }
   ],
   "source": [
    "do(lambda x: x[:, 0] > 0)"
   ]
  },
  {
   "cell_type": "code",
   "execution_count": null,
   "metadata": {
    "collapsed": true
   },
   "outputs": [],
   "source": []
  }
 ],
 "metadata": {
  "kernelspec": {
   "display_name": "Python 3",
   "language": "python",
   "name": "python3"
  },
  "language_info": {
   "codemirror_mode": {
    "name": "ipython",
    "version": 3
   },
   "file_extension": ".py",
   "mimetype": "text/x-python",
   "name": "python",
   "nbconvert_exporter": "python",
   "pygments_lexer": "ipython3",
   "version": "3.6.3"
  }
 },
 "nbformat": 4,
 "nbformat_minor": 2
}
